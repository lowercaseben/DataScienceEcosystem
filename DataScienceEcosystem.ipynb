{
 "cells": [
  {
   "cell_type": "markdown",
   "id": "f4b150a0-f233-4b72-8292-2b2d4253882d",
   "metadata": {},
   "source": [
    "<h1>Data Science Tools and Ecosystem</h1>"
   ]
  },
  {
   "cell_type": "markdown",
   "id": "edfa27ad-a32b-4c7c-a5f0-90fe57a9f91a",
   "metadata": {},
   "source": [
    "In this notebook, Data Science Tools and Ecosystem are summarized."
   ]
  },
  {
   "cell_type": "markdown",
   "id": "bcf8cb86-0e79-4ac5-a71a-8218ce801f22",
   "metadata": {},
   "source": [
    "**Objectives:**\n",
    "<ul>\n",
    "    <li>List popular languages for Data Science</li>\n",
    "    <li>Commonly used libraries for Data Science</li>\n",
    "    <li>Common Data Science Tools</li>\n",
    "    <li>Examples of arithmetic expressions in Python</li>\n",
    "</ul>"
   ]
  },
  {
   "cell_type": "markdown",
   "id": "8850345b-e532-43f2-8731-a7fd0f590879",
   "metadata": {},
   "source": [
    "Some of the popular languages that Data Scientists use are:\n",
    "<ol>\n",
    "    <li>Python</li>\n",
    "    <li>R</li>\n",
    "    <li>Julia</li>\n",
    "</ol>"
   ]
  },
  {
   "cell_type": "markdown",
   "id": "a16b9b18-3df2-49c0-b2ef-e96ff0fa7136",
   "metadata": {},
   "source": [
    "Some of the commonly used libraries used by Data Scientists include:\n",
    "\n",
    "<ol>\n",
    "    <li>Pandas</li>\n",
    "    <li>TensorFlow</li>\n",
    "    <li>Matplotlib</li>\n",
    "</ol>"
   ]
  },
  {
   "cell_type": "markdown",
   "id": "a277f7f7-b519-4e75-91d1-3a9253a41309",
   "metadata": {},
   "source": [
    "| Data Science Tools |\n",
    "---\n",
    "| Jupyter Notebooks |\n",
    "| Python |\n",
    "| TensorFlow |"
   ]
  },
  {
   "cell_type": "markdown",
   "id": "17eef664-79cb-4b66-9b25-9e3ad85a8a3f",
   "metadata": {},
   "source": [
    "<h3>Below are a few examples of evaluating arithmetic expressions in Python:</h3>"
   ]
  },
  {
   "cell_type": "code",
   "execution_count": 24,
   "id": "d915a56f-4351-4453-95e8-548a6d57b9ee",
   "metadata": {},
   "outputs": [],
   "source": [
    "# This a simple arithmetic expression to mutiply then add integers"
   ]
  },
  {
   "cell_type": "code",
   "execution_count": 26,
   "id": "3350fe94-ce95-4b68-af54-3c881d7adcba",
   "metadata": {},
   "outputs": [
    {
     "data": {
      "text/plain": [
       "17"
      ]
     },
     "execution_count": 26,
     "metadata": {},
     "output_type": "execute_result"
    }
   ],
   "source": [
    "(3*4)+5"
   ]
  },
  {
   "cell_type": "code",
   "execution_count": 28,
   "id": "00a3b71b-da3b-4063-8057-c187a0715812",
   "metadata": {},
   "outputs": [],
   "source": [
    "# This will convert 200 minutes to hours by diving by 60"
   ]
  },
  {
   "cell_type": "code",
   "execution_count": 38,
   "id": "5741f6a5-8389-4f13-aa1c-fbf413c03e7f",
   "metadata": {},
   "outputs": [
    {
     "name": "stdout",
     "output_type": "stream",
     "text": [
      "3.3333333333333335\n"
     ]
    }
   ],
   "source": [
    "minutes = 200\n",
    "hours = (minutes/60)\n",
    "print(hours)"
   ]
  },
  {
   "cell_type": "markdown",
   "id": "0622bb29-2964-4496-9c92-ac5929144cf3",
   "metadata": {
    "jp-MarkdownHeadingCollapsed": true
   },
   "source": [
    "<h2>Author</h2>\n",
    "Benjamin Harrington"
   ]
  }
 ],
 "metadata": {
  "kernelspec": {
   "display_name": "Python 3 (ipykernel)",
   "language": "python",
   "name": "python3"
  },
  "language_info": {
   "codemirror_mode": {
    "name": "ipython",
    "version": 3
   },
   "file_extension": ".py",
   "mimetype": "text/x-python",
   "name": "python",
   "nbconvert_exporter": "python",
   "pygments_lexer": "ipython3",
   "version": "3.11.7"
  }
 },
 "nbformat": 4,
 "nbformat_minor": 5
}
